{
 "cells": [
  {
   "cell_type": "code",
   "execution_count": 350,
   "metadata": {
    "collapsed": false
   },
   "outputs": [],
   "source": [
    "# Edwin Peter\n",
    "# epeter@itam.mx\n",
    "# 177019\n",
    "\n",
    "# Importing the libraries\n",
    "import random as rand\n",
    "from sklearn.cross_validation import train_test_split\n",
    "import numpy as np\n",
    "import matplotlib.pyplot as plt\n",
    "import pandas as pd\n",
    "from sklearn.preprocessing import StandardScaler\n",
    "\n",
    "\n",
    "# Importing the dataset\n",
    "dataset = pd.read_csv('regLinPoli.csv')\n",
    "X = dataset[dataset.columns[0:-1]]\n",
    "Y = dataset[dataset.columns[-1]]\n",
    "\n",
    "\n",
    "X_train, X_test, Y_train, Y_test = train_test_split(X,Y, train_size=0.75)\n"
   ]
  },
  {
   "cell_type": "code",
   "execution_count": 351,
   "metadata": {
    "collapsed": false
   },
   "outputs": [],
   "source": [
    "sc = StandardScaler().fit(X_train)\n",
    "X_train = sc.transform(X_train)\n",
    "X_test = sc.transform(X_test)\n",
    "\n",
    "mean = np.mean(Y_train)\n",
    "sd = np.std(Y_train)\n",
    "Y_train = (Y_train-mean)/sd\n",
    "Y_test = (Y_test-mean)/sd\n",
    "\n",
    "Y_train = np.array(Y_train)\n",
    "Y_test = np.array(Y_test)\n"
   ]
  },
  {
   "cell_type": "code",
   "execution_count": 352,
   "metadata": {
    "collapsed": false
   },
   "outputs": [
    {
     "name": "stdout",
     "output_type": "stream",
     "text": [
      "(6.2152158993230291e-16, array([ -2.40689879e-03,   1.00190842e+00,   4.94237414e-04,\n",
      "        -1.90348656e-04,   1.09146540e-04]))\n"
     ]
    }
   ],
   "source": [
    "from sklearn.linear_model import LinearRegression\n",
    "regressor = LinearRegression()\n",
    "regressor.fit(X_train, Y_train)\n",
    "\n",
    "Y_pred = regressor.predict(X_test)\n",
    "\n",
    "print(regressor.intercept_, regressor.coef_)"
   ]
  },
  {
   "cell_type": "code",
   "execution_count": 353,
   "metadata": {
    "collapsed": false
   },
   "outputs": [],
   "source": [
    "def computeError(w, X, Y):\n",
    "    error = np.mean((np.transpose(Y) - X.dot(w))**2)\n",
    "    return error\n",
    "\n",
    "def regularization(w, iterations, regularization_parameter, learning_rate, X, Y):\n",
    "    for i in range(iterations):\n",
    "        for j in range(len(X)):\n",
    "            learning_parameters = learning_rate * (Y[j] - (X[j].dot(w))) * X[j]\n",
    "            regularization = regularization_parameter * X[j]\n",
    "            w += (learning_parameters - regularization)\n",
    "    return w"
   ]
  },
  {
   "cell_type": "code",
   "execution_count": 354,
   "metadata": {
    "collapsed": false
   },
   "outputs": [
    {
     "name": "stdout",
     "output_type": "stream",
     "text": [
      "[  9.80248259e-02   9.20030780e-01  -2.56105380e-02  -1.17218468e-04\n",
      "   2.67523932e-03]\n",
      "0.000352841500941\n"
     ]
    }
   ],
   "source": [
    "w = [rand.random() for i in range(len(X_train[0] + 1))]\n",
    "\n",
    "learning_rate = 0.01\n",
    "regularization_parameter = 0\n",
    "iterations = 5\n",
    "\n",
    "reg_0 = regularization(w, iterations, regularization_parameter, learning_rate, X_train, Y_train)\n",
    "error_0 = computeError(reg_0, X_test, Y_test)\n",
    "print reg_0\n",
    "print error_0"
   ]
  },
  {
   "cell_type": "code",
   "execution_count": 355,
   "metadata": {
    "collapsed": false
   },
   "outputs": [
    {
     "name": "stdout",
     "output_type": "stream",
     "text": [
      "[-0.14387591  1.64470909  1.36556232  0.07168393 -0.47671282]\n",
      "2.52154784361\n"
     ]
    }
   ],
   "source": [
    "regularization_parameter = 0.1\n",
    "reg_01 = regularization(w, iterations, regularization_parameter, learning_rate, X_train, Y_train)\n",
    "error_01 = computeError(reg_01, X_test, Y_test)\n",
    "print reg_01\n",
    "print error_01"
   ]
  },
  {
   "cell_type": "code",
   "execution_count": 356,
   "metadata": {
    "collapsed": false
   },
   "outputs": [
    {
     "name": "stdout",
     "output_type": "stream",
     "text": [
      "[ -24.09204836   73.38786206  139.09167528    7.17999785  -47.9361303 ]\n",
      "25259.5713251\n"
     ]
    }
   ],
   "source": [
    "regularization_parameter = 10\n",
    "reg_10 = regularization(w, iterations, regularization_parameter, learning_rate, X_train, Y_train)\n",
    "error_10 = computeError(reg_10, X_test, Y_test)\n",
    "\n",
    "print reg_10\n",
    "print error_10"
   ]
  },
  {
   "cell_type": "code",
   "execution_count": 359,
   "metadata": {
    "collapsed": false
   },
   "outputs": [],
   "source": [
    "regs = np.linspace(0, 0.5, 100)\n",
    "errors = []\n",
    "for i in regs:\n",
    "    w = regularization(w, iterations, i, learning_rate, X_train, Y_train)\n",
    "    errors.append(computeError(w, X_train, Y_train))"
   ]
  },
  {
   "cell_type": "code",
   "execution_count": 360,
   "metadata": {
    "collapsed": false
   },
   "outputs": [
    {
     "data": {
      "image/png": "[encoded data removed]",
      "text/plain": [
       "<matplotlib.figure.Figure at 0x119acdad0>"
      ]
     },
     "metadata": {},
     "output_type": "display_data"
    }
   ],
   "source": [
    "plt.plot(regs, errors)\n",
    "plt.show()"
   ]
  }
 ],
 "metadata": {
  "anaconda-cloud": {},
  "kernelspec": {
   "display_name": "Python [conda root]",
   "language": "python",
   "name": "conda-root-py"
  },
  "language_info": {
   "codemirror_mode": {
    "name": "ipython",
    "version": 2
   },
   "file_extension": ".py",
   "mimetype": "text/x-python",
   "name": "python",
   "nbconvert_exporter": "python",
   "pygments_lexer": "ipython2",
   "version": "2.7.8"
  }
 },
 "nbformat": 4,
 "nbformat_minor": 1
}
